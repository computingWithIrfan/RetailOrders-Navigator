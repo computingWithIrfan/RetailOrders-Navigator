{
 "cells": [
  {
   "cell_type": "markdown",
   "id": "8c8d162b-212e-4fa3-9941-b1d3d9a5f240",
   "metadata": {},
   "source": [
    "#### Importing libraries"
   ]
  },
  {
   "cell_type": "code",
   "execution_count": 8,
   "id": "7a4c163a-fad2-414a-8e68-4c62510565f0",
   "metadata": {},
   "outputs": [],
   "source": [
    "import kagglehub\n",
    "import os\n",
    "import shutil"
   ]
  },
  {
   "cell_type": "markdown",
   "id": "f698d48b-ce05-49bd-bc6f-d3740105a523",
   "metadata": {},
   "source": [
    "#### Function to download dataset from kaggle and transfer it to current working directory.\n",
    "We are dowloading it using kagglehub library so it will be Download on this path **C:\\Users\\Username\\.cache\\kagglehub\\datasets\\kaggleUsernameOfDatasetOwner\\DatasetName\\version\\4\\downloadedDataset**<br>\n",
    "We will transfer it in our working directory using OS module of python."
   ]
  },
  {
   "cell_type": "markdown",
   "id": "244efa34-f3ef-4242-af82-04a95a8723cb",
   "metadata": {},
   "source": [
    "##### **move_cleanup()** : This function will take path of downloaded dataset and transfer it in dataset folder to working directory."
   ]
  },
  {
   "cell_type": "markdown",
   "id": "16b58d2b-b7e0-44c0-89c4-2da090ac9fa0",
   "metadata": {},
   "source": [
    "- Make sure to make dataset folder in working directory manually so that dataset can be tranfered their."
   ]
  },
  {
   "cell_type": "code",
   "execution_count": 6,
   "id": "34c8a950-ec84-4f9d-9d2b-c3c6fa4611c5",
   "metadata": {},
   "outputs": [],
   "source": [
    "def move_and_cleanup(source_folder):\n",
    "    try:\n",
    "        current_directory = os.getcwd()+\"\\\\dataset\"\n",
    "\n",
    "        if not os.path.exists(source_folder):\n",
    "            print(f\"Error: Source folder '{source_folder}' does not exist.\")\n",
    "            return\n",
    "\n",
    "        for item in os.listdir(source_folder):\n",
    "            source_path = os.path.join(source_folder, item)\n",
    "            destination_path = os.path.join(current_directory, item)\n",
    "\n",
    "            try:\n",
    "                shutil.move(source_path, destination_path)\n",
    "                print(f\"Moved '{item}' to the current directory.\")\n",
    "            except Exception as e:\n",
    "                print(f\"Error moving '{item}': {e}\")\n",
    "\n",
    "        print(\"Moving process completed.\")\n",
    "\n",
    "        # Delete the parent directory of \"versions\"\n",
    "        parent_dir = os.path.dirname(os.path.dirname(os.path.dirname(source_folder))) #get username directory\n",
    "        try:\n",
    "            shutil.rmtree(parent_dir)\n",
    "            print(f\"Deleted directory: {parent_dir}\")\n",
    "        except Exception as e:\n",
    "            print(f\"Error deleting directory '{parent_dir}': {e}\")\n",
    "\n",
    "    except Exception as general_error:\n",
    "        print(f\"An unexpected error occurred: {general_error}\")"
   ]
  },
  {
   "cell_type": "markdown",
   "id": "f8438169-140d-4465-9dac-b15386e7f9b3",
   "metadata": {},
   "source": [
    "#### Downloading dataset and Calling function to transfer it."
   ]
  },
  {
   "cell_type": "code",
   "execution_count": 7,
   "id": "a2243a8b-f546-4503-be75-e334899b7c99",
   "metadata": {},
   "outputs": [
    {
     "name": "stdout",
     "output_type": "stream",
     "text": [
      "Downloading from https://www.kaggle.com/api/v1/datasets/download/ankitbansal06/retail-orders?dataset_version_number=4...\n"
     ]
    },
    {
     "name": "stderr",
     "output_type": "stream",
     "text": [
      "100%|████████████████████████████████████████████████████████████████████████████████| 200k/200k [00:00<00:00, 253kB/s]"
     ]
    },
    {
     "name": "stdout",
     "output_type": "stream",
     "text": [
      "Extracting files...\n",
      "Moved 'orders.csv' to the current directory.\n",
      "Moving process completed.\n",
      "Deleted directory: C:\\Users\\Irfanullah's laptop\\.cache\\kagglehub\\datasets\\ankitbansal06\n"
     ]
    },
    {
     "name": "stderr",
     "output_type": "stream",
     "text": [
      "\n"
     ]
    }
   ],
   "source": [
    "# Download latest version\n",
    "path = kagglehub.dataset_download(\"ankitbansal06/retail-orders\")\n",
    "move_and_cleanup(path)"
   ]
  },
  {
   "cell_type": "markdown",
   "id": "4ac8efb8-aece-43d7-9ca5-431feb9398e9",
   "metadata": {},
   "source": [
    "### Next step : Move to cleaning_data_data.ipynb Notebook."
   ]
  }
 ],
 "metadata": {
  "kernelspec": {
   "display_name": "Python 3 (ipykernel)",
   "language": "python",
   "name": "python3"
  },
  "language_info": {
   "codemirror_mode": {
    "name": "ipython",
    "version": 3
   },
   "file_extension": ".py",
   "mimetype": "text/x-python",
   "name": "python",
   "nbconvert_exporter": "python",
   "pygments_lexer": "ipython3",
   "version": "3.13.2"
  }
 },
 "nbformat": 4,
 "nbformat_minor": 5
}
